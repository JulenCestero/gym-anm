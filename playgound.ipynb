{
 "cells": [
  {
   "cell_type": "code",
   "execution_count": 28,
   "metadata": {},
   "outputs": [],
   "source": [
    "import numpy as np\n",
    "import cvxpy as cp"
   ]
  },
  {
   "cell_type": "code",
   "execution_count": 50,
   "metadata": {},
   "outputs": [],
   "source": [
    "class MyPolygon(object):\n",
    "    def __init__(self):\n",
    "        self.p_min = -1\n",
    "        self.p_max = 1\n",
    "        self.q_min = -1\n",
    "        self.q_max = 1\n",
    "        self.p_minus = -0.5\n",
    "        self.p_plus = 0.5\n",
    "        self.q_plus = 0.5\n",
    "        self.q_minus = -0.5\n",
    "        \n",
    "        self.tau_1 = -1\n",
    "        self.tau_2 = 1\n",
    "        self.tau_3 = -1\n",
    "        self.tau_4 = 1\n",
    "\n",
    "        self.rho_1 = 1.5\n",
    "        self.rho_2 = -1.5\n",
    "        self.rho_3 = -1.5\n",
    "        self.rho_4 = 1.5\n",
    "\n",
    "        self.soc_min = 0.\n",
    "        self.soc_max = 10.\n",
    "        self.eff = 1.\n",
    "        \n",
    "        self.soc = 0.\n",
    "        \n",
    "def map_point_to_polygon(bounds, point, delta_t):\n",
    "    \n",
    "    # Inequality constraints.\n",
    "    G = np.array([[-1, 0],\n",
    "                  [1, 0],\n",
    "                  [0, -1],\n",
    "                  [0, 1],\n",
    "                  [- bounds.tau_1, 1],\n",
    "                  [bounds.tau_2, -1],\n",
    "                  [bounds.tau_3, -1],\n",
    "                  [-bounds.tau_4, 1],\n",
    "                  [-1, 0],\n",
    "                  [1, 0]])\n",
    "    \n",
    "    h = np.array([- bounds.p_min, \n",
    "                  bounds.p_max, \n",
    "                  - bounds.q_min, \n",
    "                  bounds.q_max, \n",
    "                  bounds.rho_1,\n",
    "                  - bounds.rho_2,\n",
    "                  - bounds.rho_3,\n",
    "                  bounds.rho_4,\n",
    "                  -(bounds.soc - bounds.soc_max) / (delta_t * bounds.eff),\n",
    "                  bounds.eff * (bounds.soc - bounds.soc_min) / delta_t])\n",
    "\n",
    "    # Define and solve the CVXPY problem.\n",
    "    x = cp.Variable(2)\n",
    "    prob = cp.Problem(cp.Minimize(cp.sum_squares(x - point)), [G @ x <= h])\n",
    "    prob.solve()\n",
    "    \n",
    "    return x.value"
   ]
  },
  {
   "cell_type": "code",
   "execution_count": 53,
   "metadata": {},
   "outputs": [
    {
     "name": "stdout",
     "output_type": "stream",
     "text": [
      "[1.39991996e-29 1.00000000e+00]\n"
     ]
    }
   ],
   "source": [
    "new_point = np.array([1, 1])\n",
    "bounds = MyPolygon()\n",
    "x = map_point_to_polygon(bounds, new_point, 1)\n",
    "print(x)"
   ]
  },
  {
   "cell_type": "code",
   "execution_count": 54,
   "metadata": {},
   "outputs": [
    {
     "data": {
      "text/plain": [
       "False"
      ]
     },
     "execution_count": 54,
     "metadata": {},
     "output_type": "execute_result"
    }
   ],
   "source": [
    "x[0] == 0"
   ]
  },
  {
   "cell_type": "code",
   "execution_count": null,
   "metadata": {},
   "outputs": [],
   "source": []
  }
 ],
 "metadata": {
  "kernelspec": {
   "display_name": "Python 3",
   "language": "python",
   "name": "python3"
  },
  "language_info": {
   "codemirror_mode": {
    "name": "ipython",
    "version": 3
   },
   "file_extension": ".py",
   "mimetype": "text/x-python",
   "name": "python",
   "nbconvert_exporter": "python",
   "pygments_lexer": "ipython3",
   "version": "3.7.5"
  }
 },
 "nbformat": 4,
 "nbformat_minor": 2
}
