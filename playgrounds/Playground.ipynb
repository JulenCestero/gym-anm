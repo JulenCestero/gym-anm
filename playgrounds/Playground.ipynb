{
 "cells": [
  {
   "cell_type": "code",
   "execution_count": 1,
   "metadata": {},
   "outputs": [],
   "source": [
    "import cvxpy as cp\n",
    "import numpy as np"
   ]
  },
  {
   "cell_type": "code",
   "execution_count": 5,
   "metadata": {},
   "outputs": [],
   "source": [
    "# Parameters.\n",
    "delta_t = 1.\n",
    "eff = 1.\n",
    "n = 3\n",
    "soc_min = [0.] * n\n",
    "soc_max = [1.] * n"
   ]
  },
  {
   "cell_type": "code",
   "execution_count": 15,
   "metadata": {},
   "outputs": [
    {
     "data": {
      "text/plain": [
       "[True, True, True, True]"
      ]
     },
     "execution_count": 15,
     "metadata": {},
     "output_type": "execute_result"
    }
   ],
   "source": [
    "# Lossless DES units.\n",
    "ps = []\n",
    "socs = [cp.Parameter(1, nonneg=True)]\n",
    "for i in range(n):\n",
    "    p = cp.Variable(1)\n",
    "    new_soc = socs[-1] - delta_t * p\n",
    "    socs.append(new_soc)\n",
    "    ps.append(p)\n",
    "[c.is_dcp() for c in socs]"
   ]
  },
  {
   "cell_type": "code",
   "execution_count": 27,
   "metadata": {},
   "outputs": [
    {
     "name": "stdout",
     "output_type": "stream",
     "text": [
      "[True, True, True, True]\n",
      "[True, True, True, True]\n"
     ]
    }
   ],
   "source": [
    "# Full DES units.\n",
    "ps = [cp.Variable(1)]\n",
    "constraints = []\n",
    "socs = [cp.Parameter(1, nonneg=True)]\n",
    "for i in range(n):\n",
    "    p_charging = cp.Variable(1, nonneg=True)\n",
    "    p_discharging = cp.Variable(1, nonneg=True)\n",
    "    new_soc_1 = socs[-1] + delta_t * eff * p_charging\n",
    "    new_soc_2 = socs[-1] - delta_t * p_discharging / eff\n",
    "    new_soc = new_soc_1 + new_soc_2\n",
    "    socs.append(new_soc)\n",
    "    ps.append(- p_charging + p_discharging)\n",
    "print([c.is_dcp() for c in socs])\n",
    "print([p.is_dcp() for p in ps])"
   ]
  },
  {
   "cell_type": "code",
   "execution_count": 24,
   "metadata": {},
   "outputs": [
    {
     "data": {
      "text/plain": [
       "[Equality(Expression(UNKNOWN, UNKNOWN, ()), Constant(CONSTANT, ZERO, ())),\n",
       " Equality(Expression(UNKNOWN, UNKNOWN, ()), Constant(CONSTANT, ZERO, ())),\n",
       " Equality(Expression(UNKNOWN, UNKNOWN, ()), Constant(CONSTANT, ZERO, ()))]"
      ]
     },
     "execution_count": 24,
     "metadata": {},
     "output_type": "execute_result"
    }
   ],
   "source": [
    "constraints"
   ]
  },
  {
   "cell_type": "code",
   "execution_count": null,
   "metadata": {},
   "outputs": [],
   "source": []
  }
 ],
 "metadata": {
  "kernelspec": {
   "display_name": "Python 3",
   "language": "python",
   "name": "python3"
  },
  "language_info": {
   "codemirror_mode": {
    "name": "ipython",
    "version": 3
   },
   "file_extension": ".py",
   "mimetype": "text/x-python",
   "name": "python",
   "nbconvert_exporter": "python",
   "pygments_lexer": "ipython3",
   "version": "3.7.5"
  }
 },
 "nbformat": 4,
 "nbformat_minor": 4
}
